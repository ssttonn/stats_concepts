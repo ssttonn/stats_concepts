{
 "cells": [
  {
   "cell_type": "code",
   "execution_count": 25,
   "id": "initial_id",
   "metadata": {
    "collapsed": true,
    "ExecuteTime": {
     "end_time": "2023-10-09T06:01:10.357963Z",
     "start_time": "2023-10-09T06:01:10.352598Z"
    }
   },
   "outputs": [],
   "source": [
    "import matplotlib.pyplot as plt\n",
    "import pandas as pd\n",
    "import seaborn as sns"
   ]
  },
  {
   "cell_type": "code",
   "execution_count": 26,
   "outputs": [
    {
     "data": {
      "text/plain": "            x\n0       67000\n1       52000\n2      100000\n3       78762\n4       37041\n...       ...\n49995   40000\n49996   54000\n49997   50000\n49998   82000\n49999   70000\n\n[50000 rows x 1 columns]",
      "text/html": "<div>\n<style scoped>\n    .dataframe tbody tr th:only-of-type {\n        vertical-align: middle;\n    }\n\n    .dataframe tbody tr th {\n        vertical-align: top;\n    }\n\n    .dataframe thead th {\n        text-align: right;\n    }\n</style>\n<table border=\"1\" class=\"dataframe\">\n  <thead>\n    <tr style=\"text-align: right;\">\n      <th></th>\n      <th>x</th>\n    </tr>\n  </thead>\n  <tbody>\n    <tr>\n      <th>0</th>\n      <td>67000</td>\n    </tr>\n    <tr>\n      <th>1</th>\n      <td>52000</td>\n    </tr>\n    <tr>\n      <th>2</th>\n      <td>100000</td>\n    </tr>\n    <tr>\n      <th>3</th>\n      <td>78762</td>\n    </tr>\n    <tr>\n      <th>4</th>\n      <td>37041</td>\n    </tr>\n    <tr>\n      <th>...</th>\n      <td>...</td>\n    </tr>\n    <tr>\n      <th>49995</th>\n      <td>40000</td>\n    </tr>\n    <tr>\n      <th>49996</th>\n      <td>54000</td>\n    </tr>\n    <tr>\n      <th>49997</th>\n      <td>50000</td>\n    </tr>\n    <tr>\n      <th>49998</th>\n      <td>82000</td>\n    </tr>\n    <tr>\n      <th>49999</th>\n      <td>70000</td>\n    </tr>\n  </tbody>\n</table>\n<p>50000 rows × 1 columns</p>\n</div>"
     },
     "execution_count": 26,
     "metadata": {},
     "output_type": "execute_result"
    }
   ],
   "source": [
    "loans_income = pd.read_csv('data/loans_income.csv')\n",
    "loans_income"
   ],
   "metadata": {
    "collapsed": false,
    "ExecuteTime": {
     "end_time": "2023-10-09T06:01:10.566102Z",
     "start_time": "2023-10-09T06:01:10.554829Z"
    }
   },
   "id": "4002ad06abeb8525"
  },
  {
   "cell_type": "code",
   "execution_count": 27,
   "outputs": [
    {
     "data": {
      "text/plain": "       income  type\n32140   95000  Data\n10530  100000  Data\n7638   132110  Data\n45422   62000  Data\n21436   25568  Data\n...       ...   ...\n2882    55000  Data\n38569   50000  Data\n14038   67000  Data\n21554   60000  Data\n41559   70000  Data\n\n[1000 rows x 2 columns]",
      "text/html": "<div>\n<style scoped>\n    .dataframe tbody tr th:only-of-type {\n        vertical-align: middle;\n    }\n\n    .dataframe tbody tr th {\n        vertical-align: top;\n    }\n\n    .dataframe thead th {\n        text-align: right;\n    }\n</style>\n<table border=\"1\" class=\"dataframe\">\n  <thead>\n    <tr style=\"text-align: right;\">\n      <th></th>\n      <th>income</th>\n      <th>type</th>\n    </tr>\n  </thead>\n  <tbody>\n    <tr>\n      <th>32140</th>\n      <td>95000</td>\n      <td>Data</td>\n    </tr>\n    <tr>\n      <th>10530</th>\n      <td>100000</td>\n      <td>Data</td>\n    </tr>\n    <tr>\n      <th>7638</th>\n      <td>132110</td>\n      <td>Data</td>\n    </tr>\n    <tr>\n      <th>45422</th>\n      <td>62000</td>\n      <td>Data</td>\n    </tr>\n    <tr>\n      <th>21436</th>\n      <td>25568</td>\n      <td>Data</td>\n    </tr>\n    <tr>\n      <th>...</th>\n      <td>...</td>\n      <td>...</td>\n    </tr>\n    <tr>\n      <th>2882</th>\n      <td>55000</td>\n      <td>Data</td>\n    </tr>\n    <tr>\n      <th>38569</th>\n      <td>50000</td>\n      <td>Data</td>\n    </tr>\n    <tr>\n      <th>14038</th>\n      <td>67000</td>\n      <td>Data</td>\n    </tr>\n    <tr>\n      <th>21554</th>\n      <td>60000</td>\n      <td>Data</td>\n    </tr>\n    <tr>\n      <th>41559</th>\n      <td>70000</td>\n      <td>Data</td>\n    </tr>\n  </tbody>\n</table>\n<p>1000 rows × 2 columns</p>\n</div>"
     },
     "execution_count": 27,
     "metadata": {},
     "output_type": "execute_result"
    }
   ],
   "source": [
    "# Sample 1000 record\n",
    "sample_data = pd.DataFrame({\n",
    "    \"income\": loans_income.sample(1000).x,\n",
    "    \"type\": \"Data\"\n",
    "})\n",
    "sample_data"
   ],
   "metadata": {
    "collapsed": false,
    "ExecuteTime": {
     "end_time": "2023-10-09T06:01:10.738922Z",
     "start_time": "2023-10-09T06:01:10.732505Z"
    }
   },
   "id": "aa84c119bb0eba48"
  },
  {
   "cell_type": "code",
   "execution_count": 28,
   "outputs": [
    {
     "data": {
      "text/plain": "      income       type\n0    60000.0  Mean of 5\n1    45885.6  Mean of 5\n2    53800.0  Mean of 5\n3    86392.0  Mean of 5\n4    60060.0  Mean of 5\n..       ...        ...\n995  48863.2  Mean of 5\n996  77400.0  Mean of 5\n997  56286.2  Mean of 5\n998  68152.6  Mean of 5\n999  76200.0  Mean of 5\n\n[1000 rows x 2 columns]",
      "text/html": "<div>\n<style scoped>\n    .dataframe tbody tr th:only-of-type {\n        vertical-align: middle;\n    }\n\n    .dataframe tbody tr th {\n        vertical-align: top;\n    }\n\n    .dataframe thead th {\n        text-align: right;\n    }\n</style>\n<table border=\"1\" class=\"dataframe\">\n  <thead>\n    <tr style=\"text-align: right;\">\n      <th></th>\n      <th>income</th>\n      <th>type</th>\n    </tr>\n  </thead>\n  <tbody>\n    <tr>\n      <th>0</th>\n      <td>60000.0</td>\n      <td>Mean of 5</td>\n    </tr>\n    <tr>\n      <th>1</th>\n      <td>45885.6</td>\n      <td>Mean of 5</td>\n    </tr>\n    <tr>\n      <th>2</th>\n      <td>53800.0</td>\n      <td>Mean of 5</td>\n    </tr>\n    <tr>\n      <th>3</th>\n      <td>86392.0</td>\n      <td>Mean of 5</td>\n    </tr>\n    <tr>\n      <th>4</th>\n      <td>60060.0</td>\n      <td>Mean of 5</td>\n    </tr>\n    <tr>\n      <th>...</th>\n      <td>...</td>\n      <td>...</td>\n    </tr>\n    <tr>\n      <th>995</th>\n      <td>48863.2</td>\n      <td>Mean of 5</td>\n    </tr>\n    <tr>\n      <th>996</th>\n      <td>77400.0</td>\n      <td>Mean of 5</td>\n    </tr>\n    <tr>\n      <th>997</th>\n      <td>56286.2</td>\n      <td>Mean of 5</td>\n    </tr>\n    <tr>\n      <th>998</th>\n      <td>68152.6</td>\n      <td>Mean of 5</td>\n    </tr>\n    <tr>\n      <th>999</th>\n      <td>76200.0</td>\n      <td>Mean of 5</td>\n    </tr>\n  </tbody>\n</table>\n<p>1000 rows × 2 columns</p>\n</div>"
     },
     "execution_count": 28,
     "metadata": {},
     "output_type": "execute_result"
    }
   ],
   "source": [
    "sample_mean_5 = pd.DataFrame({\n",
    "    \"income\": [loans_income.sample(5).x.mean() for _ in range(1000)],\n",
    "    \"type\": \"Mean of 5\"\n",
    "})\n",
    "sample_mean_5"
   ],
   "metadata": {
    "collapsed": false,
    "ExecuteTime": {
     "end_time": "2023-10-09T06:01:11.452266Z",
     "start_time": "2023-10-09T06:01:10.926180Z"
    }
   },
   "id": "75423b1a5655a025"
  },
  {
   "cell_type": "code",
   "execution_count": 41,
   "outputs": [
    {
     "data": {
      "text/plain": "68275.36055"
     },
     "execution_count": 41,
     "metadata": {},
     "output_type": "execute_result"
    }
   ],
   "source": [
    "sample_mean_20 = pd.DataFrame({\n",
    "    \"income\": [loans_income.sample(20, replace=True).x.mean() for i in range(1000)],\n",
    "    \"type\": \"Mean of 20\"\n",
    "})\n",
    "sample_mean_20"
   ],
   "metadata": {
    "collapsed": false,
    "ExecuteTime": {
     "end_time": "2023-10-09T06:04:01.207403Z",
     "start_time": "2023-10-09T06:04:01.152243Z"
    }
   },
   "id": "33d0f2d8343626ef"
  },
  {
   "cell_type": "code",
   "execution_count": 42,
   "outputs": [
    {
     "data": {
      "text/plain": "       income         type\n0    63572.39  Mean of 100\n1    65951.85  Mean of 100\n2    63234.48  Mean of 100\n3    70868.03  Mean of 100\n4    64444.31  Mean of 100\n..        ...          ...\n995  67020.56  Mean of 100\n996  69771.34  Mean of 100\n997  70096.45  Mean of 100\n998  67205.30  Mean of 100\n999  73662.43  Mean of 100\n\n[1000 rows x 2 columns]",
      "text/html": "<div>\n<style scoped>\n    .dataframe tbody tr th:only-of-type {\n        vertical-align: middle;\n    }\n\n    .dataframe tbody tr th {\n        vertical-align: top;\n    }\n\n    .dataframe thead th {\n        text-align: right;\n    }\n</style>\n<table border=\"1\" class=\"dataframe\">\n  <thead>\n    <tr style=\"text-align: right;\">\n      <th></th>\n      <th>income</th>\n      <th>type</th>\n    </tr>\n  </thead>\n  <tbody>\n    <tr>\n      <th>0</th>\n      <td>63572.39</td>\n      <td>Mean of 100</td>\n    </tr>\n    <tr>\n      <th>1</th>\n      <td>65951.85</td>\n      <td>Mean of 100</td>\n    </tr>\n    <tr>\n      <th>2</th>\n      <td>63234.48</td>\n      <td>Mean of 100</td>\n    </tr>\n    <tr>\n      <th>3</th>\n      <td>70868.03</td>\n      <td>Mean of 100</td>\n    </tr>\n    <tr>\n      <th>4</th>\n      <td>64444.31</td>\n      <td>Mean of 100</td>\n    </tr>\n    <tr>\n      <th>...</th>\n      <td>...</td>\n      <td>...</td>\n    </tr>\n    <tr>\n      <th>995</th>\n      <td>67020.56</td>\n      <td>Mean of 100</td>\n    </tr>\n    <tr>\n      <th>996</th>\n      <td>69771.34</td>\n      <td>Mean of 100</td>\n    </tr>\n    <tr>\n      <th>997</th>\n      <td>70096.45</td>\n      <td>Mean of 100</td>\n    </tr>\n    <tr>\n      <th>998</th>\n      <td>67205.30</td>\n      <td>Mean of 100</td>\n    </tr>\n    <tr>\n      <th>999</th>\n      <td>73662.43</td>\n      <td>Mean of 100</td>\n    </tr>\n  </tbody>\n</table>\n<p>1000 rows × 2 columns</p>\n</div>"
     },
     "execution_count": 42,
     "metadata": {},
     "output_type": "execute_result"
    }
   ],
   "source": [
    "sample_mean_100 = pd.DataFrame({\n",
    "    \"income\": [loans_income.sample(100).x.mean() for _ in range(1000)],\n",
    "    \"type\": \"Mean of 100\"\n",
    "})\n",
    "sample_mean_100"
   ],
   "metadata": {
    "collapsed": false,
    "ExecuteTime": {
     "end_time": "2023-10-09T06:04:25.400229Z",
     "start_time": "2023-10-09T06:04:24.885940Z"
    }
   },
   "id": "cf18c5d1286f7f02"
  },
  {
   "cell_type": "code",
   "execution_count": 37,
   "outputs": [
    {
     "data": {
      "text/plain": "          income         type\n32140   95000.00         Data\n10530  100000.00         Data\n7638   132110.00         Data\n45422   62000.00         Data\n21436   25568.00         Data\n...          ...          ...\n995     69227.37  Mean of 100\n996     67962.12  Mean of 100\n997     62189.88  Mean of 100\n998     72592.27  Mean of 100\n999     68203.72  Mean of 100\n\n[4000 rows x 2 columns]",
      "text/html": "<div>\n<style scoped>\n    .dataframe tbody tr th:only-of-type {\n        vertical-align: middle;\n    }\n\n    .dataframe tbody tr th {\n        vertical-align: top;\n    }\n\n    .dataframe thead th {\n        text-align: right;\n    }\n</style>\n<table border=\"1\" class=\"dataframe\">\n  <thead>\n    <tr style=\"text-align: right;\">\n      <th></th>\n      <th>income</th>\n      <th>type</th>\n    </tr>\n  </thead>\n  <tbody>\n    <tr>\n      <th>32140</th>\n      <td>95000.00</td>\n      <td>Data</td>\n    </tr>\n    <tr>\n      <th>10530</th>\n      <td>100000.00</td>\n      <td>Data</td>\n    </tr>\n    <tr>\n      <th>7638</th>\n      <td>132110.00</td>\n      <td>Data</td>\n    </tr>\n    <tr>\n      <th>45422</th>\n      <td>62000.00</td>\n      <td>Data</td>\n    </tr>\n    <tr>\n      <th>21436</th>\n      <td>25568.00</td>\n      <td>Data</td>\n    </tr>\n    <tr>\n      <th>...</th>\n      <td>...</td>\n      <td>...</td>\n    </tr>\n    <tr>\n      <th>995</th>\n      <td>69227.37</td>\n      <td>Mean of 100</td>\n    </tr>\n    <tr>\n      <th>996</th>\n      <td>67962.12</td>\n      <td>Mean of 100</td>\n    </tr>\n    <tr>\n      <th>997</th>\n      <td>62189.88</td>\n      <td>Mean of 100</td>\n    </tr>\n    <tr>\n      <th>998</th>\n      <td>72592.27</td>\n      <td>Mean of 100</td>\n    </tr>\n    <tr>\n      <th>999</th>\n      <td>68203.72</td>\n      <td>Mean of 100</td>\n    </tr>\n  </tbody>\n</table>\n<p>4000 rows × 2 columns</p>\n</div>"
     },
     "execution_count": 37,
     "metadata": {},
     "output_type": "execute_result"
    }
   ],
   "source": [
    "results = pd.concat([sample_data, sample_mean_5, sample_mean_20, sample_mean_100])\n",
    "results"
   ],
   "metadata": {
    "collapsed": false,
    "ExecuteTime": {
     "end_time": "2023-10-09T06:03:20.255325Z",
     "start_time": "2023-10-09T06:03:20.244432Z"
    }
   },
   "id": "859d55cc7a637f65"
  },
  {
   "cell_type": "code",
   "execution_count": 56,
   "outputs": [
    {
     "data": {
      "text/plain": "<seaborn.axisgrid.FacetGrid at 0x283a9f890>"
     },
     "execution_count": 56,
     "metadata": {},
     "output_type": "execute_result"
    },
    {
     "data": {
      "text/plain": "<Figure size 400x800 with 4 Axes>",
      "image/png": "[encoded data removed]"
     },
     "metadata": {},
     "output_type": "display_data"
    }
   ],
   "source": [
    "g = sns.FacetGrid(results, col=\"type\", height=2, col_wrap=1, aspect=2)\n",
    "g.map(plt.hist, \"income\", range=[0, 200000], bins=60)"
   ],
   "metadata": {
    "collapsed": false,
    "ExecuteTime": {
     "end_time": "2023-10-09T06:06:52.884862Z",
     "start_time": "2023-10-09T06:06:52.510281Z"
    }
   },
   "id": "6e51b885ba484047"
  },
  {
   "cell_type": "code",
   "execution_count": null,
   "outputs": [],
   "source": [],
   "metadata": {
    "collapsed": false
   },
   "id": "c4743769fd3db97f"
  }
 ],
 "metadata": {
  "kernelspec": {
   "display_name": "Python 3",
   "language": "python",
   "name": "python3"
  },
  "language_info": {
   "codemirror_mode": {
    "name": "ipython",
    "version": 2
   },
   "file_extension": ".py",
   "mimetype": "text/x-python",
   "name": "python",
   "nbconvert_exporter": "python",
   "pygments_lexer": "ipython2",
   "version": "2.7.6"
  }
 },
 "nbformat": 4,
 "nbformat_minor": 5
}
